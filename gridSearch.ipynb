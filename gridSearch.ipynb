{
 "cells": [
  {
   "cell_type": "markdown",
   "metadata": {},
   "source": [
    "Grid Search Parameters"
   ]
  },
  {
   "cell_type": "markdown",
   "metadata": {},
   "source": [
    "How to Tune Batch Size and Number of Epochs"
   ]
  },
  {
   "cell_type": "code",
   "execution_count": 5,
   "metadata": {},
   "outputs": [
    {
     "name": "stdout",
     "output_type": "stream",
     "text": [
      "Best: 0.704427 using {'batch_size': 10, 'epochs': 100}\n",
      "0.571615 (0.036966) with: {'batch_size': 10, 'epochs': 10}\n",
      "0.678385 (0.018688) with: {'batch_size': 10, 'epochs': 50}\n",
      "0.704427 (0.012890) with: {'batch_size': 10, 'epochs': 100}\n",
      "0.643229 (0.009744) with: {'batch_size': 20, 'epochs': 10}\n",
      "0.664062 (0.008438) with: {'batch_size': 20, 'epochs': 50}\n",
      "0.674479 (0.026748) with: {'batch_size': 20, 'epochs': 100}\n",
      "0.545573 (0.039365) with: {'batch_size': 40, 'epochs': 10}\n",
      "0.618490 (0.030145) with: {'batch_size': 40, 'epochs': 50}\n",
      "0.662760 (0.027126) with: {'batch_size': 40, 'epochs': 100}\n",
      "0.555990 (0.077886) with: {'batch_size': 60, 'epochs': 10}\n",
      "0.640625 (0.030758) with: {'batch_size': 60, 'epochs': 50}\n",
      "0.630208 (0.008027) with: {'batch_size': 60, 'epochs': 100}\n",
      "0.591146 (0.074481) with: {'batch_size': 80, 'epochs': 10}\n",
      "0.626302 (0.039623) with: {'batch_size': 80, 'epochs': 50}\n",
      "0.690104 (0.047983) with: {'batch_size': 80, 'epochs': 100}\n",
      "0.496094 (0.099181) with: {'batch_size': 100, 'epochs': 10}\n",
      "0.596354 (0.014382) with: {'batch_size': 100, 'epochs': 50}\n",
      "0.611979 (0.051263) with: {'batch_size': 100, 'epochs': 100}\n"
     ]
    }
   ],
   "source": [
    "# Use scikit-learn to grid search the batch size and epochs\n",
    "import numpy as np\n",
    "import tensorflow as tf\n",
    "from sklearn.model_selection import GridSearchCV\n",
    "from keras.models import Sequential\n",
    "from keras.layers import Dense\n",
    "from scikeras.wrappers import KerasClassifier\n",
    "# Le module SciKeras doit être installer avec la commande \n",
    "# pip install scikeras \n",
    "# Function to create model, required for KerasClassifier\n",
    "def create_model():\n",
    "\t# create model\n",
    "\tmodel = Sequential()\n",
    "\tmodel.add(Dense(12, input_shape=(8,), activation='relu'))\n",
    "\tmodel.add(Dense(1, activation='sigmoid'))\n",
    "\t# Compile model\n",
    "\tmodel.compile(loss='binary_crossentropy', optimizer='adam', metrics=['accuracy'])\n",
    "\treturn model\n",
    "# fix random seed for reproducibility\n",
    "seed = 7\n",
    "tf.random.set_seed(seed)\n",
    "# load dataset\n",
    "dataset = np.loadtxt(\"pima-indians-diabetes.csv\", delimiter=\",\")\n",
    "# split into input (X) and output (Y) variables\n",
    "X = dataset[:,0:8]\n",
    "Y = dataset[:,8]\n",
    "# create model\n",
    "model = KerasClassifier(model=create_model, verbose=0)\n",
    "# define the grid search parameters\n",
    "batch_size = [10, 20, 40, 60, 80, 100]\n",
    "epochs = [10, 50, 100]\n",
    "param_grid = dict(batch_size=batch_size, epochs=epochs)\n",
    "grid = GridSearchCV(estimator=model, param_grid=param_grid, n_jobs=-1, cv=3)\n",
    "grid_result = grid.fit(X, Y)\n",
    "# summarize results\n",
    "print(\"Best: %f using %s\" % (grid_result.best_score_, grid_result.best_params_))\n",
    "means = grid_result.cv_results_['mean_test_score']\n",
    "stds = grid_result.cv_results_['std_test_score']\n",
    "params = grid_result.cv_results_['params']\n",
    "for mean, stdev, param in zip(means, stds, params):\n",
    "    print(\"%f (%f) with: %r\" % (mean, stdev, param))"
   ]
  },
  {
   "cell_type": "markdown",
   "metadata": {},
   "source": [
    "How to Tune the Training Optimization Algorithm"
   ]
  },
  {
   "cell_type": "code",
   "execution_count": 6,
   "metadata": {},
   "outputs": [
    {
     "name": "stdout",
     "output_type": "stream",
     "text": [
      "Best: 0.700521 using {'optimizer': 'Adam'}\n",
      "0.656250 (0.011500) with: {'optimizer': 'SGD'}\n",
      "0.588542 (0.091573) with: {'optimizer': 'RMSprop'}\n",
      "0.489583 (0.100876) with: {'optimizer': 'Adagrad'}\n",
      "0.542969 (0.138107) with: {'optimizer': 'Adadelta'}\n",
      "0.700521 (0.031948) with: {'optimizer': 'Adam'}\n",
      "0.654948 (0.011201) with: {'optimizer': 'Adamax'}\n",
      "0.687500 (0.005524) with: {'optimizer': 'Nadam'}\n"
     ]
    }
   ],
   "source": [
    "# Use scikit-learn to grid search the batch size and epochs\n",
    "import numpy as np\n",
    "import tensorflow as tf\n",
    "from sklearn.model_selection import GridSearchCV\n",
    "from tensorflow.keras.models import Sequential\n",
    "from tensorflow.keras.layers import Dense\n",
    "from scikeras.wrappers import KerasClassifier\n",
    "#\n",
    "# Function to create model, required for KerasClassifier\n",
    "def create_model():\n",
    "\t# create model\n",
    "\tmodel = Sequential()\n",
    "\tmodel.add(Dense(12, input_shape=(8,), activation='relu'))\n",
    "\tmodel.add(Dense(1, activation='sigmoid'))\n",
    "\t# return model without compile\n",
    "\treturn model\n",
    "# fix random seed for reproducibility\n",
    "seed = 7\n",
    "tf.random.set_seed(seed)\n",
    "# load dataset\n",
    "dataset = np.loadtxt(\"pima-indians-diabetes.csv\", delimiter=\",\")\n",
    "# split into input (X) and output (Y) variables\n",
    "X = dataset[:,0:8]\n",
    "Y = dataset[:,8]\n",
    "# create model\n",
    "model = KerasClassifier(model=create_model, loss=\"binary_crossentropy\", epochs=100, batch_size=10, verbose=0)\n",
    "# define the grid search parameters\n",
    "optimizer = ['SGD', 'RMSprop', 'Adagrad', 'Adadelta', 'Adam', 'Adamax', 'Nadam']\n",
    "param_grid = dict(optimizer=optimizer)\n",
    "grid = GridSearchCV(estimator=model, param_grid=param_grid, n_jobs=-1, cv=3)\n",
    "grid_result = grid.fit(X, Y)\n",
    "# summarize results\n",
    "print(\"Best: %f using %s\" % (grid_result.best_score_, grid_result.best_params_))\n",
    "means = grid_result.cv_results_['mean_test_score']\n",
    "stds = grid_result.cv_results_['std_test_score']\n",
    "params = grid_result.cv_results_['params']\n",
    "for mean, stdev, param in zip(means, stds, params):\n",
    "    print(\"%f (%f) with: %r\" % (mean, stdev, param))"
   ]
  },
  {
   "cell_type": "markdown",
   "metadata": {},
   "source": [
    "Other way to run  to find the best optimizer"
   ]
  },
  {
   "cell_type": "code",
   "execution_count": 7,
   "metadata": {},
   "outputs": [
    {
     "name": "stdout",
     "output_type": "stream",
     "text": [
      "Best: 0.703125 using {'model__optimizer': 'Adam'}\n",
      "0.648438 (0.017758) with: {'model__optimizer': 'SGD'}\n",
      "0.632812 (0.086292) with: {'model__optimizer': 'RMSprop'}\n",
      "0.570312 (0.073079) with: {'model__optimizer': 'Adagrad'}\n",
      "0.652344 (0.006379) with: {'model__optimizer': 'Adadelta'}\n",
      "0.703125 (0.019137) with: {'model__optimizer': 'Adam'}\n",
      "0.656250 (0.019137) with: {'model__optimizer': 'Adamax'}\n",
      "0.696615 (0.025582) with: {'model__optimizer': 'Nadam'}\n"
     ]
    }
   ],
   "source": [
    "# Use scikit-learn to grid search the batch size and epochs\n",
    "import numpy as np\n",
    "import tensorflow as tf\n",
    "from sklearn.model_selection import GridSearchCV\n",
    "from tensorflow.keras.models import Sequential\n",
    "from tensorflow.keras.layers import Dense\n",
    "from scikeras.wrappers import KerasClassifier\n",
    "# Function to create model, required for KerasClassifier\n",
    "def create_model(optimizer='adam'):\n",
    "\t# create model\n",
    "\tmodel = Sequential()\n",
    "\tmodel.add(Dense(12, input_shape=(8,), activation='relu'))\n",
    "\tmodel.add(Dense(1, activation='sigmoid'))\n",
    "\t# Compile model\n",
    "\tmodel.compile(loss='binary_crossentropy', optimizer=optimizer, metrics=['accuracy'])\n",
    "\treturn model\n",
    "# fix random seed for reproducibility\n",
    "seed = 7\n",
    "tf.random.set_seed(seed)\n",
    "# load dataset\n",
    "dataset = np.loadtxt(\"pima-indians-diabetes.csv\", delimiter=\",\")\n",
    "# split into input (X) and output (Y) variables\n",
    "X = dataset[:,0:8]\n",
    "Y = dataset[:,8]\n",
    "# create model\n",
    "model = KerasClassifier(model=create_model, epochs=100, batch_size=10, verbose=0)\n",
    "# define the grid search parameters\n",
    "optimizer = ['SGD', 'RMSprop', 'Adagrad', 'Adadelta', 'Adam', 'Adamax', 'Nadam']\n",
    "param_grid = dict(model__optimizer=optimizer)\n",
    "grid = GridSearchCV(estimator=model, param_grid=param_grid, n_jobs=-1, cv=3)\n",
    "grid_result = grid.fit(X, Y)\n",
    "# summarize results\n",
    "print(\"Best: %f using %s\" % (grid_result.best_score_, grid_result.best_params_))\n",
    "means = grid_result.cv_results_['mean_test_score']\n",
    "stds = grid_result.cv_results_['std_test_score']\n",
    "params = grid_result.cv_results_['params']\n",
    "for mean, stdev, param in zip(means, stds, params):\n",
    "    print(\"%f (%f) with: %r\" % (mean, stdev, param))"
   ]
  },
  {
   "cell_type": "markdown",
   "metadata": {},
   "source": [
    "How to Tune Learning Rate and Momentum"
   ]
  },
  {
   "cell_type": "code",
   "execution_count": 8,
   "metadata": {},
   "outputs": [
    {
     "name": "stdout",
     "output_type": "stream",
     "text": [
      "Best: 0.682292 using {'optimizer__learning_rate': 0.001, 'optimizer__momentum': 0.8}\n",
      "0.673177 (0.015733) with: {'optimizer__learning_rate': 0.001, 'optimizer__momentum': 0.0}\n",
      "0.641927 (0.042473) with: {'optimizer__learning_rate': 0.001, 'optimizer__momentum': 0.2}\n",
      "0.669271 (0.026748) with: {'optimizer__learning_rate': 0.001, 'optimizer__momentum': 0.4}\n",
      "0.643229 (0.090680) with: {'optimizer__learning_rate': 0.001, 'optimizer__momentum': 0.6}\n",
      "0.682292 (0.043537) with: {'optimizer__learning_rate': 0.001, 'optimizer__momentum': 0.8}\n",
      "0.653646 (0.004872) with: {'optimizer__learning_rate': 0.001, 'optimizer__momentum': 0.9}\n",
      "0.651042 (0.004872) with: {'optimizer__learning_rate': 0.01, 'optimizer__momentum': 0.0}\n",
      "0.654948 (0.011201) with: {'optimizer__learning_rate': 0.01, 'optimizer__momentum': 0.2}\n",
      "0.638021 (0.012075) with: {'optimizer__learning_rate': 0.01, 'optimizer__momentum': 0.4}\n",
      "0.653646 (0.001841) with: {'optimizer__learning_rate': 0.01, 'optimizer__momentum': 0.6}\n",
      "0.649740 (0.003683) with: {'optimizer__learning_rate': 0.01, 'optimizer__momentum': 0.8}\n",
      "0.651042 (0.001841) with: {'optimizer__learning_rate': 0.01, 'optimizer__momentum': 0.9}\n",
      "0.651042 (0.001841) with: {'optimizer__learning_rate': 0.1, 'optimizer__momentum': 0.0}\n",
      "0.651042 (0.001841) with: {'optimizer__learning_rate': 0.1, 'optimizer__momentum': 0.2}\n",
      "0.651042 (0.001841) with: {'optimizer__learning_rate': 0.1, 'optimizer__momentum': 0.4}\n",
      "0.651042 (0.001841) with: {'optimizer__learning_rate': 0.1, 'optimizer__momentum': 0.6}\n",
      "0.651042 (0.001841) with: {'optimizer__learning_rate': 0.1, 'optimizer__momentum': 0.8}\n",
      "0.651042 (0.001841) with: {'optimizer__learning_rate': 0.1, 'optimizer__momentum': 0.9}\n",
      "0.651042 (0.001841) with: {'optimizer__learning_rate': 0.2, 'optimizer__momentum': 0.0}\n",
      "0.651042 (0.001841) with: {'optimizer__learning_rate': 0.2, 'optimizer__momentum': 0.2}\n",
      "0.651042 (0.001841) with: {'optimizer__learning_rate': 0.2, 'optimizer__momentum': 0.4}\n",
      "0.651042 (0.001841) with: {'optimizer__learning_rate': 0.2, 'optimizer__momentum': 0.6}\n",
      "0.651042 (0.001841) with: {'optimizer__learning_rate': 0.2, 'optimizer__momentum': 0.8}\n",
      "0.651042 (0.001841) with: {'optimizer__learning_rate': 0.2, 'optimizer__momentum': 0.9}\n",
      "0.651042 (0.001841) with: {'optimizer__learning_rate': 0.3, 'optimizer__momentum': 0.0}\n",
      "0.651042 (0.001841) with: {'optimizer__learning_rate': 0.3, 'optimizer__momentum': 0.2}\n",
      "0.651042 (0.001841) with: {'optimizer__learning_rate': 0.3, 'optimizer__momentum': 0.4}\n",
      "0.651042 (0.001841) with: {'optimizer__learning_rate': 0.3, 'optimizer__momentum': 0.6}\n",
      "0.651042 (0.001841) with: {'optimizer__learning_rate': 0.3, 'optimizer__momentum': 0.8}\n",
      "0.549479 (0.142719) with: {'optimizer__learning_rate': 0.3, 'optimizer__momentum': 0.9}\n"
     ]
    }
   ],
   "source": [
    "# Use scikit-learn to grid search the learning rate and momentum\n",
    "import numpy as np\n",
    "import tensorflow as tf\n",
    "from sklearn.model_selection import GridSearchCV\n",
    "from tensorflow.keras.models import Sequential\n",
    "from tensorflow.keras.layers import Dense\n",
    "from tensorflow.keras.optimizers import SGD\n",
    "from scikeras.wrappers import KerasClassifier\n",
    "# Function to create model, required for KerasClassifier\n",
    "def create_model():\n",
    "\t# create model\n",
    "\tmodel = Sequential()\n",
    "\tmodel.add(Dense(12, input_shape=(8,), activation='relu'))\n",
    "\tmodel.add(Dense(1, activation='sigmoid'))\n",
    "\treturn model\n",
    "# fix random seed for reproducibility\n",
    "seed = 7\n",
    "tf.random.set_seed(seed)\n",
    "# load dataset\n",
    "dataset = np.loadtxt(\"pima-indians-diabetes.csv\", delimiter=\",\")\n",
    "# split into input (X) and output (Y) variables\n",
    "X = dataset[:,0:8]\n",
    "Y = dataset[:,8]\n",
    "# create model\n",
    "model = KerasClassifier(model=create_model, loss=\"binary_crossentropy\", optimizer=\"SGD\", epochs=100, batch_size=10, verbose=0)\n",
    "# define the grid search parameters\n",
    "learn_rate = [0.001, 0.01, 0.1, 0.2, 0.3]\n",
    "momentum = [0.0, 0.2, 0.4, 0.6, 0.8, 0.9]\n",
    "param_grid = dict(optimizer__learning_rate=learn_rate, optimizer__momentum=momentum)\n",
    "grid = GridSearchCV(estimator=model, param_grid=param_grid, n_jobs=-1, cv=3)\n",
    "grid_result = grid.fit(X, Y)\n",
    "# summarize results\n",
    "print(\"Best: %f using %s\" % (grid_result.best_score_, grid_result.best_params_))\n",
    "means = grid_result.cv_results_['mean_test_score']\n",
    "stds = grid_result.cv_results_['std_test_score']\n",
    "params = grid_result.cv_results_['params']\n",
    "for mean, stdev, param in zip(means, stds, params):\n",
    "    print(\"%f (%f) with: %r\" % (mean, stdev, param))"
   ]
  },
  {
   "cell_type": "markdown",
   "metadata": {},
   "source": [
    "How to Tune Network Weight Initialization"
   ]
  },
  {
   "cell_type": "code",
   "execution_count": 9,
   "metadata": {},
   "outputs": [
    {
     "name": "stdout",
     "output_type": "stream",
     "text": [
      "Best: 0.709635 using {'model__init_mode': 'normal'}\n",
      "0.704427 (0.040511) with: {'model__init_mode': 'uniform'}\n",
      "0.699219 (0.022999) with: {'model__init_mode': 'lecun_uniform'}\n",
      "0.709635 (0.026748) with: {'model__init_mode': 'normal'}\n",
      "0.651042 (0.001841) with: {'model__init_mode': 'zero'}\n",
      "0.700521 (0.018688) with: {'model__init_mode': 'glorot_normal'}\n",
      "0.691406 (0.028348) with: {'model__init_mode': 'glorot_uniform'}\n",
      "0.682292 (0.025582) with: {'model__init_mode': 'he_normal'}\n",
      "0.618490 (0.004872) with: {'model__init_mode': 'he_uniform'}\n"
     ]
    }
   ],
   "source": [
    "# Use scikit-learn to grid search the weight initialization\n",
    "import numpy as np\n",
    "import tensorflow as tf\n",
    "from sklearn.model_selection import GridSearchCV\n",
    "from tensorflow.keras.models import Sequential\n",
    "from tensorflow.keras.layers import Dense\n",
    "from scikeras.wrappers import KerasClassifier\n",
    "# Function to create model, required for KerasClassifier\n",
    "def create_model(init_mode='uniform'):\n",
    "\t# create model\n",
    "\tmodel = Sequential()\n",
    "\tmodel.add(Dense(12, input_shape=(8,), kernel_initializer=init_mode, activation='relu'))\n",
    "\tmodel.add(Dense(1, kernel_initializer=init_mode, activation='sigmoid'))\n",
    "\t# Compile model\n",
    "\tmodel.compile(loss='binary_crossentropy', optimizer='adam', metrics=['accuracy'])\n",
    "\treturn model\n",
    "# fix random seed for reproducibility\n",
    "seed = 7\n",
    "tf.random.set_seed(seed)\n",
    "# load dataset\n",
    "dataset = np.loadtxt(\"pima-indians-diabetes.csv\", delimiter=\",\")\n",
    "# split into input (X) and output (Y) variables\n",
    "X = dataset[:,0:8]\n",
    "Y = dataset[:,8]\n",
    "# create model\n",
    "model = KerasClassifier(model=create_model, epochs=100, batch_size=10, verbose=0)\n",
    "# define the grid search parameters\n",
    "init_mode = ['uniform', 'lecun_uniform', 'normal', 'zero', 'glorot_normal', 'glorot_uniform', 'he_normal', 'he_uniform']\n",
    "param_grid = dict(model__init_mode=init_mode)\n",
    "grid = GridSearchCV(estimator=model, param_grid=param_grid, n_jobs=-1, cv=3)\n",
    "grid_result = grid.fit(X, Y)\n",
    "# summarize results\n",
    "print(\"Best: %f using %s\" % (grid_result.best_score_, grid_result.best_params_))\n",
    "means = grid_result.cv_results_['mean_test_score']\n",
    "stds = grid_result.cv_results_['std_test_score']\n",
    "params = grid_result.cv_results_['params']\n",
    "for mean, stdev, param in zip(means, stds, params):\n",
    "    print(\"%f (%f) with: %r\" % (mean, stdev, param))"
   ]
  },
  {
   "cell_type": "markdown",
   "metadata": {},
   "source": [
    "How to Tune the Neuron Activation Function"
   ]
  },
  {
   "cell_type": "code",
   "execution_count": 10,
   "metadata": {},
   "outputs": [
    {
     "name": "stderr",
     "output_type": "stream",
     "text": [
      "c:\\Users\\Fatima\\anaconda3\\envs\\py39\\lib\\site-packages\\joblib\\externals\\loky\\process_executor.py:752: UserWarning: A worker stopped while some jobs were given to the executor. This can be caused by a too short worker timeout or by a memory leak.\n",
      "  warnings.warn(\n"
     ]
    },
    {
     "name": "stdout",
     "output_type": "stream",
     "text": [
      "Best: 0.739583 using {'model__activation': 'softplus'}\n",
      "0.653646 (0.008027) with: {'model__activation': 'softmax'}\n",
      "0.739583 (0.034401) with: {'model__activation': 'softplus'}\n",
      "0.673177 (0.011201) with: {'model__activation': 'softsign'}\n",
      "0.707031 (0.005524) with: {'model__activation': 'relu'}\n",
      "0.653646 (0.003683) with: {'model__activation': 'tanh'}\n",
      "0.697917 (0.029635) with: {'model__activation': 'sigmoid'}\n",
      "0.664062 (0.012758) with: {'model__activation': 'hard_sigmoid'}\n",
      "0.710938 (0.012758) with: {'model__activation': 'linear'}\n"
     ]
    }
   ],
   "source": [
    "# Use scikit-learn to grid search the activation function\n",
    "import numpy as np\n",
    "import tensorflow as tf\n",
    "from sklearn.model_selection import GridSearchCV\n",
    "from tensorflow.keras.models import Sequential\n",
    "from tensorflow.keras.layers import Dense\n",
    "from scikeras.wrappers import KerasClassifier\n",
    "# Function to create model, required for KerasClassifier\n",
    "def create_model(activation='relu'):\n",
    "\t# create model\n",
    "\tmodel = Sequential()\n",
    "\tmodel.add(Dense(12, input_shape=(8,), kernel_initializer='normal', activation=activation))\n",
    "\tmodel.add(Dense(1, kernel_initializer='uniform', activation='sigmoid'))\n",
    "\t# Compile model\n",
    "\tmodel.compile(loss='binary_crossentropy', optimizer='adam', metrics=['accuracy'])\n",
    "\treturn model\n",
    "# fix random seed for reproducibility\n",
    "seed = 7\n",
    "tf.random.set_seed(seed)\n",
    "# load dataset\n",
    "dataset = np.loadtxt(\"pima-indians-diabetes.csv\", delimiter=\",\")\n",
    "# split into input (X) and output (Y) variables\n",
    "X = dataset[:,0:8]\n",
    "Y = dataset[:,8]\n",
    "# create model\n",
    "model = KerasClassifier(model=create_model, epochs=100, batch_size=10, verbose=0)\n",
    "# define the grid search parameters\n",
    "activation = ['softmax', 'softplus', 'softsign', 'relu', 'tanh', 'sigmoid', 'hard_sigmoid', 'linear']\n",
    "param_grid = dict(model__activation=activation)\n",
    "grid = GridSearchCV(estimator=model, param_grid=param_grid, n_jobs=-1, cv=3)\n",
    "grid_result = grid.fit(X, Y)\n",
    "# summarize results\n",
    "print(\"Best: %f using %s\" % (grid_result.best_score_, grid_result.best_params_))\n",
    "means = grid_result.cv_results_['mean_test_score']\n",
    "stds = grid_result.cv_results_['std_test_score']\n",
    "params = grid_result.cv_results_['params']\n",
    "for mean, stdev, param in zip(means, stds, params):\n",
    "    print(\"%f (%f) with: %r\" % (mean, stdev, param))"
   ]
  },
  {
   "cell_type": "markdown",
   "metadata": {},
   "source": [
    "How to Tune Dropout Regularization"
   ]
  },
  {
   "cell_type": "code",
   "execution_count": 11,
   "metadata": {},
   "outputs": [
    {
     "name": "stdout",
     "output_type": "stream",
     "text": [
      "float64 (768, 9)\n"
     ]
    },
    {
     "name": "stderr",
     "output_type": "stream",
     "text": [
      "c:\\Users\\Fatima\\anaconda3\\envs\\py39\\lib\\site-packages\\joblib\\externals\\loky\\process_executor.py:752: UserWarning: A worker stopped while some jobs were given to the executor. This can be caused by a too short worker timeout or by a memory leak.\n",
      "  warnings.warn(\n"
     ]
    },
    {
     "name": "stdout",
     "output_type": "stream",
     "text": [
      "Best: 0.735677 using {'model__dropout_rate': 0.0, 'model__weight_constraint': 1.0}\n",
      "0.735677 (0.030647) with: {'model__dropout_rate': 0.0, 'model__weight_constraint': 1.0}\n",
      "0.718750 (0.035516) with: {'model__dropout_rate': 0.0, 'model__weight_constraint': 2.0}\n",
      "0.722656 (0.027805) with: {'model__dropout_rate': 0.0, 'model__weight_constraint': 3.0}\n",
      "0.729167 (0.035132) with: {'model__dropout_rate': 0.0, 'model__weight_constraint': 4.0}\n",
      "0.729167 (0.033197) with: {'model__dropout_rate': 0.0, 'model__weight_constraint': 5.0}\n",
      "0.723958 (0.025976) with: {'model__dropout_rate': 0.1, 'model__weight_constraint': 1.0}\n",
      "0.726562 (0.025315) with: {'model__dropout_rate': 0.1, 'model__weight_constraint': 2.0}\n",
      "0.731771 (0.012890) with: {'model__dropout_rate': 0.1, 'model__weight_constraint': 3.0}\n",
      "0.710938 (0.024080) with: {'model__dropout_rate': 0.1, 'model__weight_constraint': 4.0}\n",
      "0.729167 (0.027126) with: {'model__dropout_rate': 0.1, 'model__weight_constraint': 5.0}\n",
      "0.709635 (0.012890) with: {'model__dropout_rate': 0.2, 'model__weight_constraint': 1.0}\n",
      "0.720052 (0.035132) with: {'model__dropout_rate': 0.2, 'model__weight_constraint': 2.0}\n",
      "0.714844 (0.014616) with: {'model__dropout_rate': 0.2, 'model__weight_constraint': 3.0}\n",
      "0.722656 (0.017758) with: {'model__dropout_rate': 0.2, 'model__weight_constraint': 4.0}\n",
      "0.733073 (0.014382) with: {'model__dropout_rate': 0.2, 'model__weight_constraint': 5.0}\n",
      "0.708333 (0.033197) with: {'model__dropout_rate': 0.3, 'model__weight_constraint': 1.0}\n",
      "0.713542 (0.020752) with: {'model__dropout_rate': 0.3, 'model__weight_constraint': 2.0}\n",
      "0.718750 (0.032369) with: {'model__dropout_rate': 0.3, 'model__weight_constraint': 3.0}\n",
      "0.722656 (0.020915) with: {'model__dropout_rate': 0.3, 'model__weight_constraint': 4.0}\n",
      "0.733073 (0.009207) with: {'model__dropout_rate': 0.3, 'model__weight_constraint': 5.0}\n",
      "0.709635 (0.014731) with: {'model__dropout_rate': 0.4, 'model__weight_constraint': 1.0}\n",
      "0.722656 (0.008438) with: {'model__dropout_rate': 0.4, 'model__weight_constraint': 2.0}\n",
      "0.709635 (0.016367) with: {'model__dropout_rate': 0.4, 'model__weight_constraint': 3.0}\n",
      "0.710938 (0.003189) with: {'model__dropout_rate': 0.4, 'model__weight_constraint': 4.0}\n",
      "0.700521 (0.014382) with: {'model__dropout_rate': 0.4, 'model__weight_constraint': 5.0}\n",
      "0.708333 (0.031948) with: {'model__dropout_rate': 0.5, 'model__weight_constraint': 1.0}\n",
      "0.712240 (0.018688) with: {'model__dropout_rate': 0.5, 'model__weight_constraint': 2.0}\n",
      "0.692708 (0.007366) with: {'model__dropout_rate': 0.5, 'model__weight_constraint': 3.0}\n",
      "0.725260 (0.023073) with: {'model__dropout_rate': 0.5, 'model__weight_constraint': 4.0}\n",
      "0.695312 (0.003189) with: {'model__dropout_rate': 0.5, 'model__weight_constraint': 5.0}\n",
      "0.703125 (0.031894) with: {'model__dropout_rate': 0.6, 'model__weight_constraint': 1.0}\n",
      "0.704427 (0.018688) with: {'model__dropout_rate': 0.6, 'model__weight_constraint': 2.0}\n",
      "0.691406 (0.009568) with: {'model__dropout_rate': 0.6, 'model__weight_constraint': 3.0}\n",
      "0.662760 (0.004872) with: {'model__dropout_rate': 0.6, 'model__weight_constraint': 4.0}\n",
      "0.697917 (0.020505) with: {'model__dropout_rate': 0.6, 'model__weight_constraint': 5.0}\n",
      "0.679688 (0.024910) with: {'model__dropout_rate': 0.7, 'model__weight_constraint': 1.0}\n",
      "0.657552 (0.003683) with: {'model__dropout_rate': 0.7, 'model__weight_constraint': 2.0}\n",
      "0.673177 (0.024150) with: {'model__dropout_rate': 0.7, 'model__weight_constraint': 3.0}\n",
      "0.680990 (0.023939) with: {'model__dropout_rate': 0.7, 'model__weight_constraint': 4.0}\n",
      "0.671875 (0.011500) with: {'model__dropout_rate': 0.7, 'model__weight_constraint': 5.0}\n",
      "0.656250 (0.008438) with: {'model__dropout_rate': 0.8, 'model__weight_constraint': 1.0}\n",
      "0.657552 (0.004872) with: {'model__dropout_rate': 0.8, 'model__weight_constraint': 2.0}\n",
      "0.664062 (0.009568) with: {'model__dropout_rate': 0.8, 'model__weight_constraint': 3.0}\n",
      "0.665365 (0.013279) with: {'model__dropout_rate': 0.8, 'model__weight_constraint': 4.0}\n",
      "0.656250 (0.011500) with: {'model__dropout_rate': 0.8, 'model__weight_constraint': 5.0}\n",
      "0.651042 (0.001841) with: {'model__dropout_rate': 0.9, 'model__weight_constraint': 1.0}\n",
      "0.651042 (0.001841) with: {'model__dropout_rate': 0.9, 'model__weight_constraint': 2.0}\n",
      "0.651042 (0.001841) with: {'model__dropout_rate': 0.9, 'model__weight_constraint': 3.0}\n",
      "0.652344 (0.003189) with: {'model__dropout_rate': 0.9, 'model__weight_constraint': 4.0}\n",
      "0.652344 (0.000000) with: {'model__dropout_rate': 0.9, 'model__weight_constraint': 5.0}\n"
     ]
    }
   ],
   "source": [
    "# Use scikit-learn to grid search the dropout rate\n",
    "import numpy as np\n",
    "import tensorflow as tf\n",
    "from sklearn.model_selection import GridSearchCV\n",
    "from tensorflow.keras.models import Sequential\n",
    "from tensorflow.keras.layers import Dense\n",
    "from tensorflow.keras.layers import Dropout\n",
    "from tensorflow.keras.constraints import MaxNorm\n",
    "from scikeras.wrappers import KerasClassifier\n",
    "# Function to create model, required for KerasClassifier\n",
    "def create_model(dropout_rate, weight_constraint):\n",
    "\t# create model\n",
    "\tmodel = Sequential()\n",
    "\tmodel.add(Dense(12, input_shape=(8,), kernel_initializer='uniform', activation='softplus', kernel_constraint=MaxNorm(weight_constraint)))\n",
    "\tmodel.add(Dropout(dropout_rate))\n",
    "\tmodel.add(Dense(1, kernel_initializer='uniform', activation='sigmoid'))\n",
    "\t# Compile model\n",
    "\tmodel.compile(loss='binary_crossentropy', optimizer='adam', metrics=['accuracy'])\n",
    "\treturn model\n",
    "# fix random seed for reproducibility\n",
    "seed = 7\n",
    "tf.random.set_seed(seed)\n",
    "# load dataset\n",
    "dataset = np.loadtxt(\"pima-indians-diabetes.csv\", delimiter=\",\")\n",
    "print(dataset.dtype, dataset.shape)\n",
    "# split into input (X) and output (Y) variables\n",
    "X = dataset[:,0:8]\n",
    "Y = dataset[:,8]\n",
    "# create model\n",
    "model = KerasClassifier(model=create_model, epochs=100, batch_size=10, verbose=0)\n",
    "# define the grid search parameters\n",
    "weight_constraint = [1.0, 2.0, 3.0, 4.0, 5.0]\n",
    "dropout_rate = [0.0, 0.1, 0.2, 0.3, 0.4, 0.5, 0.6, 0.7, 0.8, 0.9]\n",
    "param_grid = dict(model__dropout_rate=dropout_rate, model__weight_constraint=weight_constraint)\n",
    "#param_grid = dict(model__dropout_rate=dropout_rate)\n",
    "grid = GridSearchCV(estimator=model, param_grid=param_grid, n_jobs=-1, cv=3)\n",
    "grid_result = grid.fit(X, Y)\n",
    "# summarize results\n",
    "print(\"Best: %f using %s\" % (grid_result.best_score_, grid_result.best_params_))\n",
    "means = grid_result.cv_results_['mean_test_score']\n",
    "stds = grid_result.cv_results_['std_test_score']\n",
    "params = grid_result.cv_results_['params']\n",
    "for mean, stdev, param in zip(means, stds, params):\n",
    "    print(\"%f (%f) with: %r\" % (mean, stdev, param))"
   ]
  },
  {
   "cell_type": "markdown",
   "metadata": {},
   "source": [
    "How to Tune the Number of Neurons in the Hidden Layer\n"
   ]
  },
  {
   "cell_type": "code",
   "execution_count": 12,
   "metadata": {},
   "outputs": [
    {
     "name": "stdout",
     "output_type": "stream",
     "text": [
      "Best: 0.714844 using {'model__neurons': 5}\n",
      "0.701823 (0.009744) with: {'model__neurons': 1}\n",
      "0.714844 (0.015947) with: {'model__neurons': 5}\n",
      "0.714844 (0.017758) with: {'model__neurons': 10}\n",
      "0.709635 (0.016053) with: {'model__neurons': 15}\n",
      "0.709635 (0.012890) with: {'model__neurons': 20}\n",
      "0.709635 (0.009744) with: {'model__neurons': 25}\n",
      "0.705729 (0.013279) with: {'model__neurons': 30}\n"
     ]
    }
   ],
   "source": [
    "# Use scikit-learn to grid search the number of neurons\n",
    "import numpy as np\n",
    "import tensorflow as tf\n",
    "from sklearn.model_selection import GridSearchCV\n",
    "from tensorflow.keras.models import Sequential\n",
    "from tensorflow.keras.layers import Dense\n",
    "from tensorflow.keras.layers import Dropout\n",
    "from scikeras.wrappers import KerasClassifier\n",
    "from tensorflow.keras.constraints import MaxNorm\n",
    "# Function to create model, required for KerasClassifier\n",
    "def create_model(neurons):\n",
    "\t# create model\n",
    "\tmodel = Sequential()\n",
    "\tmodel.add(Dense(neurons, input_shape=(8,), kernel_initializer='uniform', activation='linear', kernel_constraint=MaxNorm(4)))\n",
    "\tmodel.add(Dropout(0.0))\n",
    "\tmodel.add(Dense(1, kernel_initializer='uniform', activation='sigmoid'))\n",
    "\t# Compile model\n",
    "\tmodel.compile(loss='binary_crossentropy', optimizer='adam', metrics=['accuracy'])\n",
    "\treturn model\n",
    "# fix random seed for reproducibility\n",
    "seed = 7\n",
    "tf.random.set_seed(seed)\n",
    "# load dataset\n",
    "dataset = np.loadtxt(\"pima-indians-diabetes.csv\", delimiter=\",\")\n",
    "# split into input (X) and output (Y) variables\n",
    "X = dataset[:,0:8]\n",
    "Y = dataset[:,8]\n",
    "# create model\n",
    "model = KerasClassifier(model=create_model, epochs=100, batch_size=10, verbose=0)\n",
    "# define the grid search parameters\n",
    "neurons = [1, 5, 10, 15, 20, 25, 30]\n",
    "param_grid = dict(model__neurons=neurons)\n",
    "grid = GridSearchCV(estimator=model, param_grid=param_grid, n_jobs=-1, cv=3)\n",
    "grid_result = grid.fit(X, Y)\n",
    "# summarize results\n",
    "print(\"Best: %f using %s\" % (grid_result.best_score_, grid_result.best_params_))\n",
    "means = grid_result.cv_results_['mean_test_score']\n",
    "stds = grid_result.cv_results_['std_test_score']\n",
    "params = grid_result.cv_results_['params']\n",
    "for mean, stdev, param in zip(means, stds, params):\n",
    "    print(\"%f (%f) with: %r\" % (mean, stdev, param))"
   ]
  },
  {
   "cell_type": "markdown",
   "metadata": {},
   "source": [
    "Tips for Hyperparameter Optimization\n",
    "This section lists some handy tips to consider when tuning hyperparameters of your neural network.\n",
    "\n",
    "- k-fold Cross Validation. You can see that the results from the examples in this post show some variance. A default cross-validation of 3 was used, but perhaps k=5 or k=10 would be more stable. Carefully choose your cross validation configuration to ensure your results are stable.\n",
    "- Review the Whole Grid. Do not just focus on the best result, review the whole grid of results and look for trends to support configuration decisions.\n",
    "- Parallelize. Use all your cores if you can, neural networks are slow to train and we often want to try a lot of different parameters. Consider spinning up a lot of AWS instances.\n",
    "- Use a Sample of Your Dataset. Because networks are slow to train, try training them on a smaller sample of your training dataset, just to get an idea of general directions of parameters rather than optimal configurations.\n",
    "- Start with Coarse Grids. Start with coarse-grained grids and zoom into finer grained grids once you can narrow the scope.\n",
    "- Do not Transfer Results. Results are generally problem specific. Try to avoid favorite configurations on each new problem that you see. It is unlikely that optimal results you discover on one problem will transfer to your next project. Instead look for broader trends like number of layers or relationships between parameters.\n",
    "- Reproducibility is a Problem. Although we set the seed for the random number generator in NumPy, the results are not 100% reproducible. There is more to reproducibility when grid searching wrapped Keras models than is presented in this post."
   ]
  }
 ],
 "metadata": {
  "kernelspec": {
   "display_name": "base",
   "language": "python",
   "name": "python3"
  },
  "language_info": {
   "codemirror_mode": {
    "name": "ipython",
    "version": 3
   },
   "file_extension": ".py",
   "mimetype": "text/x-python",
   "name": "python",
   "nbconvert_exporter": "python",
   "pygments_lexer": "ipython3",
   "version": "3.9.18"
  },
  "orig_nbformat": 4
 },
 "nbformat": 4,
 "nbformat_minor": 2
}
